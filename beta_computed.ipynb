{
 "cells": [
  {
   "cell_type": "markdown",
   "metadata": {},
   "source": [
    "Aby uzykać współczynnik beta dla trzech wybranych przez nas spółek: CCC, KGHM oraz Pekao wpierw musimy wyliczyć zwrot rynkowy. Pomoże nam w tym WIG20, który reprezentuje 20 największych i najbardziej płynnych spółek notowanych na warszawskiej giełdzie. \n",
    "We wszystkich notowaniach korzystamy z okresu od 03.01.2005 do 29.12.2023"
   ]
  },
  {
   "cell_type": "code",
   "execution_count": 95,
   "metadata": {},
   "outputs": [],
   "source": [
    "import pandas as pd\n",
    "import numpy as np"
   ]
  },
  {
   "cell_type": "code",
   "execution_count": 96,
   "metadata": {},
   "outputs": [
    {
     "data": {
      "text/plain": [
       "0       1965.69\n",
       "1       1953.80\n",
       "2       1909.33\n",
       "3       1896.29\n",
       "4       1902.83\n",
       "         ...   \n",
       "4749    2347.67\n",
       "4750    2345.70\n",
       "4751    2370.28\n",
       "4752    2355.32\n",
       "4753    2341.99\n",
       "Name: Dzienny zwrot rynku, Length: 4754, dtype: float64"
      ]
     },
     "execution_count": 96,
     "metadata": {},
     "output_type": "execute_result"
    }
   ],
   "source": [
    "data_wig20 = pd.read_csv(\"data/wig20_2005.csv\")\n",
    "data_wig20['Dzienny zwrot rynku'] = (data_wig20['Zamkniecie']-data_wig20['Otwarcie'] / data_wig20['Otwarcie'])\n",
    "data_wig20['Dzienny zwrot rynku']"
   ]
  },
  {
   "cell_type": "markdown",
   "metadata": {},
   "source": [
    "Mamy wyliczone dzienne zwroty rynkowe, obliczmy teraz współczynniki beta dla każdej z trzech spółek:"
   ]
  },
  {
   "cell_type": "code",
   "execution_count": 97,
   "metadata": {},
   "outputs": [
    {
     "data": {
      "text/html": [
       "<div>\n",
       "<style scoped>\n",
       "    .dataframe tbody tr th:only-of-type {\n",
       "        vertical-align: middle;\n",
       "    }\n",
       "\n",
       "    .dataframe tbody tr th {\n",
       "        vertical-align: top;\n",
       "    }\n",
       "\n",
       "    .dataframe thead th {\n",
       "        text-align: right;\n",
       "    }\n",
       "</style>\n",
       "<table border=\"1\" class=\"dataframe\">\n",
       "  <thead>\n",
       "    <tr style=\"text-align: right;\">\n",
       "      <th></th>\n",
       "      <th>Data</th>\n",
       "      <th>Otwarcie</th>\n",
       "      <th>Najwyzszy</th>\n",
       "      <th>Najnizszy</th>\n",
       "      <th>Zamkniecie</th>\n",
       "      <th>Wolumen</th>\n",
       "      <th>Dzienny zwrot</th>\n",
       "    </tr>\n",
       "  </thead>\n",
       "  <tbody>\n",
       "    <tr>\n",
       "      <th>0</th>\n",
       "      <td>2005-01-03</td>\n",
       "      <td>10.27210</td>\n",
       "      <td>10.43490</td>\n",
       "      <td>10.20380</td>\n",
       "      <td>10.27210</td>\n",
       "      <td>1.351049e+06</td>\n",
       "      <td>9.27210</td>\n",
       "    </tr>\n",
       "    <tr>\n",
       "      <th>1</th>\n",
       "      <td>2005-01-04</td>\n",
       "      <td>10.23550</td>\n",
       "      <td>10.27210</td>\n",
       "      <td>10.07270</td>\n",
       "      <td>10.10750</td>\n",
       "      <td>2.908545e+06</td>\n",
       "      <td>9.10750</td>\n",
       "    </tr>\n",
       "    <tr>\n",
       "      <th>2</th>\n",
       "      <td>2005-01-05</td>\n",
       "      <td>9.71454</td>\n",
       "      <td>9.71454</td>\n",
       "      <td>9.48536</td>\n",
       "      <td>9.58551</td>\n",
       "      <td>6.020221e+06</td>\n",
       "      <td>8.58551</td>\n",
       "    </tr>\n",
       "    <tr>\n",
       "      <th>3</th>\n",
       "      <td>2005-01-06</td>\n",
       "      <td>9.48536</td>\n",
       "      <td>9.48536</td>\n",
       "      <td>9.15794</td>\n",
       "      <td>9.32069</td>\n",
       "      <td>3.856970e+06</td>\n",
       "      <td>8.32069</td>\n",
       "    </tr>\n",
       "    <tr>\n",
       "      <th>4</th>\n",
       "      <td>2005-01-07</td>\n",
       "      <td>9.32069</td>\n",
       "      <td>9.58551</td>\n",
       "      <td>9.12607</td>\n",
       "      <td>9.45358</td>\n",
       "      <td>2.093734e+06</td>\n",
       "      <td>8.45358</td>\n",
       "    </tr>\n",
       "  </tbody>\n",
       "</table>\n",
       "</div>"
      ],
      "text/plain": [
       "         Data  Otwarcie  Najwyzszy  Najnizszy  Zamkniecie       Wolumen  \\\n",
       "0  2005-01-03  10.27210   10.43490   10.20380    10.27210  1.351049e+06   \n",
       "1  2005-01-04  10.23550   10.27210   10.07270    10.10750  2.908545e+06   \n",
       "2  2005-01-05   9.71454    9.71454    9.48536     9.58551  6.020221e+06   \n",
       "3  2005-01-06   9.48536    9.48536    9.15794     9.32069  3.856970e+06   \n",
       "4  2005-01-07   9.32069    9.58551    9.12607     9.45358  2.093734e+06   \n",
       "\n",
       "   Dzienny zwrot  \n",
       "0        9.27210  \n",
       "1        9.10750  \n",
       "2        8.58551  \n",
       "3        8.32069  \n",
       "4        8.45358  "
      ]
     },
     "execution_count": 97,
     "metadata": {},
     "output_type": "execute_result"
    }
   ],
   "source": [
    "data_kghm = pd.read_csv(\"data/kgh_2005.csv\")\n",
    "data_kghm['Dzienny zwrot'] = (data_kghm['Zamkniecie']-data_kghm['Otwarcie'] / data_kghm['Otwarcie'])\n",
    "data_kghm.head()"
   ]
  },
  {
   "cell_type": "code",
   "execution_count": 98,
   "metadata": {},
   "outputs": [
    {
     "data": {
      "text/plain": [
       "-3928.1631455415736"
      ]
     },
     "execution_count": 98,
     "metadata": {},
     "output_type": "execute_result"
    }
   ],
   "source": [
    "covariance_kghm = np.cov(data_kghm['Dzienny zwrot'], data_wig20['Dzienny zwrot rynku'], ddof=0)[0][1]\n",
    "covariance_kghm\n"
   ]
  },
  {
   "cell_type": "code",
   "execution_count": 99,
   "metadata": {},
   "outputs": [
    {
     "data": {
      "text/plain": [
       "217755.54110027436"
      ]
     },
     "execution_count": 99,
     "metadata": {},
     "output_type": "execute_result"
    }
   ],
   "source": [
    "market_variance = np.var(data_wig20['Dzienny zwrot rynku'], ddof=0)\n",
    "market_variance\n"
   ]
  },
  {
   "cell_type": "code",
   "execution_count": 100,
   "metadata": {},
   "outputs": [
    {
     "data": {
      "text/plain": [
       "-0.0180393257764802"
      ]
     },
     "execution_count": 100,
     "metadata": {},
     "output_type": "execute_result"
    }
   ],
   "source": [
    "beta_kghm = covariance_kghm / market_variance\n",
    "beta_kghm"
   ]
  },
  {
   "cell_type": "code",
   "execution_count": 101,
   "metadata": {},
   "outputs": [
    {
     "data": {
      "text/html": [
       "<div>\n",
       "<style scoped>\n",
       "    .dataframe tbody tr th:only-of-type {\n",
       "        vertical-align: middle;\n",
       "    }\n",
       "\n",
       "    .dataframe tbody tr th {\n",
       "        vertical-align: top;\n",
       "    }\n",
       "\n",
       "    .dataframe thead th {\n",
       "        text-align: right;\n",
       "    }\n",
       "</style>\n",
       "<table border=\"1\" class=\"dataframe\">\n",
       "  <thead>\n",
       "    <tr style=\"text-align: right;\">\n",
       "      <th></th>\n",
       "      <th>Data</th>\n",
       "      <th>Otwarcie</th>\n",
       "      <th>Najwyzszy</th>\n",
       "      <th>Najnizszy</th>\n",
       "      <th>Zamkniecie</th>\n",
       "      <th>Wolumen</th>\n",
       "      <th>Dzienny zwrot</th>\n",
       "    </tr>\n",
       "  </thead>\n",
       "  <tbody>\n",
       "    <tr>\n",
       "      <th>0</th>\n",
       "      <td>2005-01-03</td>\n",
       "      <td>56.8084</td>\n",
       "      <td>58.8612</td>\n",
       "      <td>56.8084</td>\n",
       "      <td>58.2476</td>\n",
       "      <td>376792.311012</td>\n",
       "      <td>57.2476</td>\n",
       "    </tr>\n",
       "    <tr>\n",
       "      <th>1</th>\n",
       "      <td>2005-01-04</td>\n",
       "      <td>57.4235</td>\n",
       "      <td>58.0435</td>\n",
       "      <td>57.2176</td>\n",
       "      <td>57.8319</td>\n",
       "      <td>159300.776621</td>\n",
       "      <td>56.8319</td>\n",
       "    </tr>\n",
       "    <tr>\n",
       "      <th>2</th>\n",
       "      <td>2005-01-05</td>\n",
       "      <td>57.2176</td>\n",
       "      <td>57.6333</td>\n",
       "      <td>55.7800</td>\n",
       "      <td>55.7800</td>\n",
       "      <td>429800.893829</td>\n",
       "      <td>54.7800</td>\n",
       "    </tr>\n",
       "    <tr>\n",
       "      <th>3</th>\n",
       "      <td>2005-01-06</td>\n",
       "      <td>55.5742</td>\n",
       "      <td>56.8084</td>\n",
       "      <td>55.1601</td>\n",
       "      <td>55.1601</td>\n",
       "      <td>377216.003060</td>\n",
       "      <td>54.1601</td>\n",
       "    </tr>\n",
       "    <tr>\n",
       "      <th>4</th>\n",
       "      <td>2005-01-07</td>\n",
       "      <td>55.1601</td>\n",
       "      <td>56.1893</td>\n",
       "      <td>54.9551</td>\n",
       "      <td>55.1601</td>\n",
       "      <td>273211.994084</td>\n",
       "      <td>54.1601</td>\n",
       "    </tr>\n",
       "  </tbody>\n",
       "</table>\n",
       "</div>"
      ],
      "text/plain": [
       "         Data  Otwarcie  Najwyzszy  Najnizszy  Zamkniecie        Wolumen  \\\n",
       "0  2005-01-03   56.8084    58.8612    56.8084     58.2476  376792.311012   \n",
       "1  2005-01-04   57.4235    58.0435    57.2176     57.8319  159300.776621   \n",
       "2  2005-01-05   57.2176    57.6333    55.7800     55.7800  429800.893829   \n",
       "3  2005-01-06   55.5742    56.8084    55.1601     55.1601  377216.003060   \n",
       "4  2005-01-07   55.1601    56.1893    54.9551     55.1601  273211.994084   \n",
       "\n",
       "   Dzienny zwrot  \n",
       "0        57.2476  \n",
       "1        56.8319  \n",
       "2        54.7800  \n",
       "3        54.1601  \n",
       "4        54.1601  "
      ]
     },
     "execution_count": 101,
     "metadata": {},
     "output_type": "execute_result"
    }
   ],
   "source": [
    "data_pekao = pd.read_csv(\"data/peo_2005.csv\")\n",
    "data_pekao['Dzienny zwrot'] = (data_pekao['Zamkniecie']-data_pekao['Otwarcie'] / data_pekao['Otwarcie'])\n",
    "data_pekao.head()"
   ]
  },
  {
   "cell_type": "code",
   "execution_count": 102,
   "metadata": {},
   "outputs": [
    {
     "data": {
      "text/plain": [
       "4883.814100413982"
      ]
     },
     "execution_count": 102,
     "metadata": {},
     "output_type": "execute_result"
    }
   ],
   "source": [
    "covariance_pekao = np.cov(data_pekao['Dzienny zwrot'], data_wig20['Dzienny zwrot rynku'], ddof=0)[0][1]\n",
    "covariance_pekao"
   ]
  },
  {
   "cell_type": "code",
   "execution_count": 103,
   "metadata": {},
   "outputs": [
    {
     "data": {
      "text/plain": [
       "0.022427967048448294"
      ]
     },
     "execution_count": 103,
     "metadata": {},
     "output_type": "execute_result"
    }
   ],
   "source": [
    "beta_pekao = covariance_pekao / market_variance\n",
    "beta_pekao"
   ]
  },
  {
   "cell_type": "code",
   "execution_count": 104,
   "metadata": {},
   "outputs": [
    {
     "data": {
      "text/plain": [
       "4736"
      ]
     },
     "execution_count": 104,
     "metadata": {},
     "output_type": "execute_result"
    }
   ],
   "source": [
    "data_ccc = pd.read_csv(\"data/ccc_2005.csv\")\n",
    "data_ccc.head()\n",
    "len(data_ccc)"
   ]
  },
  {
   "cell_type": "code",
   "execution_count": 105,
   "metadata": {},
   "outputs": [
    {
     "data": {
      "text/html": [
       "<div>\n",
       "<style scoped>\n",
       "    .dataframe tbody tr th:only-of-type {\n",
       "        vertical-align: middle;\n",
       "    }\n",
       "\n",
       "    .dataframe tbody tr th {\n",
       "        vertical-align: top;\n",
       "    }\n",
       "\n",
       "    .dataframe thead th {\n",
       "        text-align: right;\n",
       "    }\n",
       "</style>\n",
       "<table border=\"1\" class=\"dataframe\">\n",
       "  <thead>\n",
       "    <tr style=\"text-align: right;\">\n",
       "      <th></th>\n",
       "      <th>Data</th>\n",
       "      <th>Otwarcie</th>\n",
       "      <th>Najwyzszy</th>\n",
       "      <th>Najnizszy</th>\n",
       "      <th>Zamkniecie</th>\n",
       "      <th>Wolumen</th>\n",
       "    </tr>\n",
       "  </thead>\n",
       "  <tbody>\n",
       "    <tr>\n",
       "      <th>0</th>\n",
       "      <td>2005-01-03</td>\n",
       "      <td>7.6302</td>\n",
       "      <td>7.6725</td>\n",
       "      <td>7.5876</td>\n",
       "      <td>7.6725</td>\n",
       "      <td>8145</td>\n",
       "    </tr>\n",
       "    <tr>\n",
       "      <th>1</th>\n",
       "      <td>2005-01-04</td>\n",
       "      <td>7.6725</td>\n",
       "      <td>7.6725</td>\n",
       "      <td>7.6302</td>\n",
       "      <td>7.6302</td>\n",
       "      <td>4845</td>\n",
       "    </tr>\n",
       "    <tr>\n",
       "      <th>2</th>\n",
       "      <td>2005-01-05</td>\n",
       "      <td>7.5876</td>\n",
       "      <td>7.5876</td>\n",
       "      <td>7.3493</td>\n",
       "      <td>7.3918</td>\n",
       "      <td>3579</td>\n",
       "    </tr>\n",
       "    <tr>\n",
       "      <th>3</th>\n",
       "      <td>2005-01-06</td>\n",
       "      <td>7.3918</td>\n",
       "      <td>7.4346</td>\n",
       "      <td>7.3918</td>\n",
       "      <td>7.3918</td>\n",
       "      <td>12006</td>\n",
       "    </tr>\n",
       "    <tr>\n",
       "      <th>4</th>\n",
       "      <td>2005-01-07</td>\n",
       "      <td>7.3918</td>\n",
       "      <td>7.5535</td>\n",
       "      <td>7.3918</td>\n",
       "      <td>7.3918</td>\n",
       "      <td>4235</td>\n",
       "    </tr>\n",
       "  </tbody>\n",
       "</table>\n",
       "</div>"
      ],
      "text/plain": [
       "         Data  Otwarcie  Najwyzszy  Najnizszy  Zamkniecie  Wolumen\n",
       "0  2005-01-03    7.6302     7.6725     7.5876      7.6725     8145\n",
       "1  2005-01-04    7.6725     7.6725     7.6302      7.6302     4845\n",
       "2  2005-01-05    7.5876     7.5876     7.3493      7.3918     3579\n",
       "3  2005-01-06    7.3918     7.4346     7.3918      7.3918    12006\n",
       "4  2005-01-07    7.3918     7.5535     7.3918      7.3918     4235"
      ]
     },
     "execution_count": 105,
     "metadata": {},
     "output_type": "execute_result"
    }
   ],
   "source": [
    "data_ccc.head()"
   ]
  },
  {
   "cell_type": "markdown",
   "metadata": {},
   "source": []
  },
  {
   "cell_type": "markdown",
   "metadata": {},
   "source": [
    "Dla spółki CCC nie mamy notowań dla wszystkich dni, w których WIG20 było notowane, musimy uzupełnić kalendarz o brakujące dni, wypełniając średnią puste komórki"
   ]
  },
  {
   "cell_type": "code",
   "execution_count": 106,
   "metadata": {},
   "outputs": [
    {
     "name": "stdout",
     "output_type": "stream",
     "text": [
      "Unikalne daty dla WIG20:\n",
      "['2005-01-03' '2005-01-04' '2005-01-05' ... '2023-12-27' '2023-12-28'\n",
      " '2023-12-29']\n",
      "\n",
      "Unikalne daty dla CCC:\n",
      "['2005-01-03' '2005-01-04' '2005-01-05' ... '2023-12-27' '2023-12-28'\n",
      " '2023-12-29']\n"
     ]
    }
   ],
   "source": [
    "# Wyświetl unikalne daty dla ramki danych data_wig20\n",
    "unikalne_daty_wig20 = data_wig20['Data'].unique()\n",
    "print(\"Unikalne daty dla WIG20:\")\n",
    "print(unikalne_daty_wig20)\n",
    "\n",
    "# Wyświetl unikalne daty dla ramki danych data_ccc\n",
    "unikalne_daty_ccc = data_ccc['Data'].unique()\n",
    "print(\"\\nUnikalne daty dla CCC:\")\n",
    "print(unikalne_daty_ccc)"
   ]
  },
  {
   "cell_type": "code",
   "execution_count": 107,
   "metadata": {},
   "outputs": [
    {
     "name": "stdout",
     "output_type": "stream",
     "text": [
      "Brakujące daty dla CCC: {'2008-09-11', '2009-02-16', '2008-09-08', '2010-06-28', '2008-07-07', '2008-09-15', '2008-09-16', '2010-06-25', '2010-02-23', '2008-05-09', '2008-12-30', '2008-09-05', '2011-06-16', '2008-09-10', '2008-05-12', '2008-03-20', '2008-05-23', '2008-08-13'}\n"
     ]
    }
   ],
   "source": [
    "# Znajdź brakujące daty dla CCC\n",
    "brakujace_daty_ccc = set(unikalne_daty_wig20) - set(unikalne_daty_ccc)\n",
    "print(\"Brakujące daty dla CCC:\", brakujace_daty_ccc)"
   ]
  },
  {
   "cell_type": "code",
   "execution_count": 108,
   "metadata": {},
   "outputs": [
    {
     "data": {
      "text/plain": [
       "4754"
      ]
     },
     "execution_count": 108,
     "metadata": {},
     "output_type": "execute_result"
    }
   ],
   "source": [
    "len(data_wig20)"
   ]
  },
  {
   "cell_type": "code",
   "execution_count": 109,
   "metadata": {},
   "outputs": [
    {
     "data": {
      "text/plain": [
       "4736"
      ]
     },
     "execution_count": 109,
     "metadata": {},
     "output_type": "execute_result"
    }
   ],
   "source": [
    "len(data_ccc)"
   ]
  },
  {
   "cell_type": "markdown",
   "metadata": {},
   "source": [
    "Widzimy, że data_cc ma 4736 wierszy, a data_wig20 4754. Wyznaczyłam brakujące daty, trzeba je jakoś wprowadzić do datasetu ccc, uzupełniając kolumny o średnią (lub interpolację liniową).\n",
    "Gdy już oba datasety będą mieć równą liczbę wierszy, możemy przejść do wyliczenia współczynnika bety."
   ]
  }
 ],
 "metadata": {
  "kernelspec": {
   "display_name": "Python 3 (ipykernel)",
   "language": "python",
   "name": "python3"
  },
  "language_info": {
   "codemirror_mode": {
    "name": "ipython",
    "version": 3
   },
   "file_extension": ".py",
   "mimetype": "text/x-python",
   "name": "python",
   "nbconvert_exporter": "python",
   "pygments_lexer": "ipython3",
   "version": "3.11.4"
  }
 },
 "nbformat": 4,
 "nbformat_minor": 2
}
